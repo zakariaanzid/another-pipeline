{
 "cells": [
  {
   "cell_type": "code",
   "execution_count": null,
   "id": "0b430de5-ba8c-4769-bc5d-4f14e2ef0ffc",
   "metadata": {},
   "outputs": [],
   "source": [
    "from kfp.client import Client\n",
    "\n",
    "#client = Client(host='localhost')\n",
    "client = Client()\n",
    "\n",
    "run = client.create_run_from_pipeline_package(\n",
    "    '/manifests/pipHello.yaml',\n",
    "    arguments={\n",
    "        'recipient': 'World',\n",
    "    },\n",
    ")"
   ]
  }
 ],
 "metadata": {
  "kernelspec": {
   "display_name": "Python 3 (ipykernel)",
   "language": "python",
   "name": "python3"
  },
  "language_info": {
   "codemirror_mode": {
    "name": "ipython",
    "version": 3
   },
   "file_extension": ".py",
   "mimetype": "text/x-python",
   "name": "python",
   "nbconvert_exporter": "python",
   "pygments_lexer": "ipython3",
   "version": "3.11.10"
  }
 },
 "nbformat": 4,
 "nbformat_minor": 5
}
