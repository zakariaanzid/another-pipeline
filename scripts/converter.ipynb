{
 "cells": [
  {
   "cell_type": "code",
   "execution_count": 3,
   "id": "7b75930d-4569-46ca-83b6-b86810c28d67",
   "metadata": {},
   "outputs": [
    {
     "name": "stdout",
     "output_type": "stream",
     "text": [
      "[NbConvertApp] Converting notebook kbf-run.ipynb to script\n",
      "[NbConvertApp] Writing 296 bytes to kbf-run.py\n"
     ]
    }
   ],
   "source": [
    "!jupyter nbconvert --to script kbf-run.ipynb"
   ]
  },
  {
   "cell_type": "code",
   "execution_count": null,
   "id": "06f46f38-7323-4e7c-9a18-94c9e0cef42c",
   "metadata": {},
   "outputs": [],
   "source": []
  }
 ],
 "metadata": {
  "kernelspec": {
   "display_name": "Python 3 (ipykernel)",
   "language": "python",
   "name": "python3"
  },
  "language_info": {
   "codemirror_mode": {
    "name": "ipython",
    "version": 3
   },
   "file_extension": ".py",
   "mimetype": "text/x-python",
   "name": "python",
   "nbconvert_exporter": "python",
   "pygments_lexer": "ipython3",
   "version": "3.11.10"
  }
 },
 "nbformat": 4,
 "nbformat_minor": 5
}
