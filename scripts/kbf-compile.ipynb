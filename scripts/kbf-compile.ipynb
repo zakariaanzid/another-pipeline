{
 "cells": [
  {
   "cell_type": "code",
   "execution_count": 20,
   "id": "7a09e153-da06-4a72-9b80-fda7c54e0a9b",
   "metadata": {},
   "outputs": [],
   "source": [
    "from kfp import dsl\n",
    "\n",
    "@dsl.component\n",
    "def say_hello(name: str) -> str:\n",
    "    hello_text = f'Hello, {name}!'\n",
    "    print(hello_text)\n",
    "    return hello_text\n",
    "\n",
    "@dsl.pipeline\n",
    "def hello_pipeline(recipient: str) -> str:\n",
    "    hello_task = say_hello(name=recipient)\n",
    "    return hello_task.output"
   ]
  },
  {
   "cell_type": "code",
   "execution_count": 7,
   "id": "48425fe2-0e3d-41e7-9305-61b6813f6a4e",
   "metadata": {},
   "outputs": [],
   "source": []
  },
  {
   "cell_type": "code",
   "execution_count": 22,
   "id": "4b4922b4-be29-4b7e-9031-b4bf22af8852",
   "metadata": {},
   "outputs": [
    {
     "ename": "FileNotFoundError",
     "evalue": "[Errno 2] No such file or directory: '~/manifests/pipHello.yaml'",
     "output_type": "error",
     "traceback": [
      "\u001b[0;31m---------------------------------------------------------------------------\u001b[0m",
      "\u001b[0;31mFileNotFoundError\u001b[0m                         Traceback (most recent call last)",
      "Cell \u001b[0;32mIn[22], line 3\u001b[0m\n\u001b[1;32m      1\u001b[0m \u001b[38;5;28;01mfrom\u001b[39;00m \u001b[38;5;21;01mkfp\u001b[39;00m \u001b[38;5;28;01mimport\u001b[39;00m compiler\n\u001b[0;32m----> 3\u001b[0m \u001b[43mcompiler\u001b[49m\u001b[38;5;241;43m.\u001b[39;49m\u001b[43mCompiler\u001b[49m\u001b[43m(\u001b[49m\u001b[43m)\u001b[49m\u001b[38;5;241;43m.\u001b[39;49m\u001b[43mcompile\u001b[49m\u001b[43m(\u001b[49m\u001b[43mhello_pipeline\u001b[49m\u001b[43m,\u001b[49m\u001b[43m \u001b[49m\u001b[38;5;124;43m'\u001b[39;49m\u001b[38;5;124;43m~/manifests/pipHello.yaml\u001b[39;49m\u001b[38;5;124;43m'\u001b[39;49m\u001b[43m)\u001b[49m\n",
      "File \u001b[0;32m/opt/conda/lib/python3.11/site-packages/kfp/compiler/compiler.py:81\u001b[0m, in \u001b[0;36mCompiler.compile\u001b[0;34m(self, pipeline_func, package_path, pipeline_name, pipeline_parameters, type_check)\u001b[0m\n\u001b[1;32m     69\u001b[0m     \u001b[38;5;28;01mraise\u001b[39;00m \u001b[38;5;167;01mValueError\u001b[39;00m(\n\u001b[1;32m     70\u001b[0m         \u001b[38;5;124m'\u001b[39m\u001b[38;5;124mUnsupported pipeline_func type. Expected \u001b[39m\u001b[38;5;124m'\u001b[39m\n\u001b[1;32m     71\u001b[0m         \u001b[38;5;124m'\u001b[39m\u001b[38;5;124msubclass of `base_component.BaseComponent` or \u001b[39m\u001b[38;5;124m'\u001b[39m\n\u001b[1;32m     72\u001b[0m         \u001b[38;5;124m'\u001b[39m\u001b[38;5;124m`Callable` constructed with @dsl.pipeline \u001b[39m\u001b[38;5;124m'\u001b[39m\n\u001b[1;32m     73\u001b[0m         \u001b[38;5;124mf\u001b[39m\u001b[38;5;124m'\u001b[39m\u001b[38;5;124mdecorator. Got: \u001b[39m\u001b[38;5;132;01m{\u001b[39;00m\u001b[38;5;28mtype\u001b[39m(pipeline_func)\u001b[38;5;132;01m}\u001b[39;00m\u001b[38;5;124m'\u001b[39m)\n\u001b[1;32m     75\u001b[0m pipeline_spec \u001b[38;5;241m=\u001b[39m builder\u001b[38;5;241m.\u001b[39mmodify_pipeline_spec_with_override(\n\u001b[1;32m     76\u001b[0m     pipeline_spec\u001b[38;5;241m=\u001b[39mpipeline_func\u001b[38;5;241m.\u001b[39mpipeline_spec,\n\u001b[1;32m     77\u001b[0m     pipeline_name\u001b[38;5;241m=\u001b[39mpipeline_name,\n\u001b[1;32m     78\u001b[0m     pipeline_parameters\u001b[38;5;241m=\u001b[39mpipeline_parameters,\n\u001b[1;32m     79\u001b[0m )\n\u001b[0;32m---> 81\u001b[0m \u001b[43mbuilder\u001b[49m\u001b[38;5;241;43m.\u001b[39;49m\u001b[43mwrite_pipeline_spec_to_file\u001b[49m\u001b[43m(\u001b[49m\n\u001b[1;32m     82\u001b[0m \u001b[43m    \u001b[49m\u001b[43mpipeline_spec\u001b[49m\u001b[38;5;241;43m=\u001b[39;49m\u001b[43mpipeline_spec\u001b[49m\u001b[43m,\u001b[49m\n\u001b[1;32m     83\u001b[0m \u001b[43m    \u001b[49m\u001b[43mpipeline_description\u001b[49m\u001b[38;5;241;43m=\u001b[39;49m\u001b[43mpipeline_func\u001b[49m\u001b[38;5;241;43m.\u001b[39;49m\u001b[43mdescription\u001b[49m\u001b[43m,\u001b[49m\n\u001b[1;32m     84\u001b[0m \u001b[43m    \u001b[49m\u001b[43mplatform_spec\u001b[49m\u001b[38;5;241;43m=\u001b[39;49m\u001b[43mpipeline_func\u001b[49m\u001b[38;5;241;43m.\u001b[39;49m\u001b[43mplatform_spec\u001b[49m\u001b[43m,\u001b[49m\n\u001b[1;32m     85\u001b[0m \u001b[43m    \u001b[49m\u001b[43mpackage_path\u001b[49m\u001b[38;5;241;43m=\u001b[39;49m\u001b[43mpackage_path\u001b[49m\u001b[43m,\u001b[49m\n\u001b[1;32m     86\u001b[0m \u001b[43m\u001b[49m\u001b[43m)\u001b[49m\n",
      "File \u001b[0;32m/opt/conda/lib/python3.11/site-packages/kfp/compiler/pipeline_spec_builder.py:2024\u001b[0m, in \u001b[0;36mwrite_pipeline_spec_to_file\u001b[0;34m(pipeline_spec, pipeline_description, platform_spec, package_path)\u001b[0m\n\u001b[1;32m   2021\u001b[0m         json\u001b[38;5;241m.\u001b[39mdump(pipeline_spec_dict, json_file, indent\u001b[38;5;241m=\u001b[39m\u001b[38;5;241m2\u001b[39m, sort_keys\u001b[38;5;241m=\u001b[39m\u001b[38;5;28;01mTrue\u001b[39;00m)\n\u001b[1;32m   2023\u001b[0m \u001b[38;5;28;01melif\u001b[39;00m package_path\u001b[38;5;241m.\u001b[39mendswith((\u001b[38;5;124m'\u001b[39m\u001b[38;5;124m.yaml\u001b[39m\u001b[38;5;124m'\u001b[39m, \u001b[38;5;124m'\u001b[39m\u001b[38;5;124m.yml\u001b[39m\u001b[38;5;124m'\u001b[39m)):\n\u001b[0;32m-> 2024\u001b[0m     \u001b[38;5;28;01mwith\u001b[39;00m \u001b[38;5;28mopen\u001b[39m(package_path, \u001b[38;5;124m'\u001b[39m\u001b[38;5;124mw\u001b[39m\u001b[38;5;124m'\u001b[39m) \u001b[38;5;28;01mas\u001b[39;00m yaml_file:\n\u001b[1;32m   2025\u001b[0m         yaml_file\u001b[38;5;241m.\u001b[39mwrite(yaml_comments)\n\u001b[1;32m   2026\u001b[0m         documents \u001b[38;5;241m=\u001b[39m [pipeline_spec_dict]\n",
      "\u001b[0;31mFileNotFoundError\u001b[0m: [Errno 2] No such file or directory: '~/manifests/pipHello.yaml'"
     ]
    }
   ],
   "source": [
    "from kfp import compiler\n",
    "\n",
    "compiler.Compiler().compile(hello_pipeline, '~/manifests/pipHello.yaml')"
   ]
  },
  {
   "cell_type": "code",
   "execution_count": null,
   "id": "515ab0d5-d24b-43a2-97af-12c5447bdd64",
   "metadata": {
    "scrolled": true
   },
   "outputs": [],
   "source": []
  },
  {
   "cell_type": "code",
   "execution_count": 13,
   "id": "8f05911b-2db2-4033-8131-20a7191d9629",
   "metadata": {},
   "outputs": [],
   "source": []
  },
  {
   "cell_type": "code",
   "execution_count": null,
   "id": "b864c0b6-8799-4a7e-82d1-d449fa2a61cd",
   "metadata": {},
   "outputs": [],
   "source": []
  }
 ],
 "metadata": {
  "kernelspec": {
   "display_name": "Python 3 (ipykernel)",
   "language": "python",
   "name": "python3"
  },
  "language_info": {
   "codemirror_mode": {
    "name": "ipython",
    "version": 3
   },
   "file_extension": ".py",
   "mimetype": "text/x-python",
   "name": "python",
   "nbconvert_exporter": "python",
   "pygments_lexer": "ipython3",
   "version": "3.11.10"
  }
 },
 "nbformat": 4,
 "nbformat_minor": 5
}
